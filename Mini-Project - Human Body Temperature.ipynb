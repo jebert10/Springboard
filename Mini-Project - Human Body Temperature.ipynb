{
 "cells": [
  {
   "cell_type": "markdown",
   "metadata": {},
   "source": [
    "# What is the True Normal Human Body Temperature? \n",
    "\n",
    "#### Background\n",
    "\n",
    "The mean normal body temperature was held to be 37$^{\\circ}$C or 98.6$^{\\circ}$F for more than 120 years since it was first conceptualized and reported by Carl Wunderlich in a famous 1868 book. But, is this value statistically correct?"
   ]
  },
  {
   "cell_type": "markdown",
   "metadata": {},
   "source": [
    "<h3>Exercises</h3>\n",
    "\n",
    "<p>In this exercise, you will analyze a dataset of human body temperatures and employ the concepts of hypothesis testing, confidence intervals, and statistical significance.</p>\n",
    "\n",
    "<p>Answer the following questions <b>in this notebook below and submit to your Github account</b>.</p> \n",
    "\n",
    "<ol>\n",
    "<li>  Is the distribution of body temperatures normal? \n",
    "    <ul>\n",
    "    <li> Although this is not a requirement for the Central Limit Theorem to hold (read the introduction on Wikipedia's page about the CLT carefully: https://en.wikipedia.org/wiki/Central_limit_theorem), it gives us some peace of mind that the population may also be normally distributed if we assume that this sample is representative of the population.\n",
    "    <li> Think about the way you're going to check for the normality of the distribution. Graphical methods are usually used first, but there are also other ways: https://en.wikipedia.org/wiki/Normality_test\n",
    "    </ul>\n",
    "<li>  Is the sample size large? Are the observations independent?\n",
    "    <ul>\n",
    "    <li> Remember that this is a condition for the Central Limit Theorem, and hence the statistical tests we are using, to apply.\n",
    "    </ul>\n",
    "<li>  Is the true population mean really 98.6 degrees F?\n",
    "    <ul>\n",
    "    <li> First, try a bootstrap hypothesis test.\n",
    "    <li> Now, let's try frequentist statistical testing. Would you use a one-sample or two-sample test? Why?\n",
    "    <li> In this situation, is it appropriate to use the $t$ or $z$ statistic? \n",
    "    <li> Now try using the other test. How is the result be different? Why?\n",
    "    </ul>\n",
    "<li>  Draw a small sample of size 10 from the data and repeat both frequentist tests. \n",
    "    <ul>\n",
    "    <li> Which one is the correct one to use? \n",
    "    <li> What do you notice? What does this tell you about the difference in application of the $t$ and $z$ statistic?\n",
    "    </ul>\n",
    "<li>  At what temperature should we consider someone's temperature to be \"abnormal\"?\n",
    "    <ul>\n",
    "    <li> As in the previous example, try calculating everything using the boostrap approach, as well as the frequentist approach.\n",
    "    <li> Start by computing the margin of error and confidence interval. When calculating the confidence interval, keep in mind that you should use the appropriate formula for one draw, and not N draws.\n",
    "    </ul>\n",
    "<li>  Is there a significant difference between males and females in normal temperature?\n",
    "    <ul>\n",
    "    <li> What testing approach did you use and why?\n",
    "    <li> Write a story with your conclusion in the context of the original problem.\n",
    "    </ul>\n",
    "</ol>\n",
    "\n",
    "You can include written notes in notebook cells using Markdown: \n",
    "   - In the control panel at the top, choose Cell > Cell Type > Markdown\n",
    "   - Markdown syntax: http://nestacms.com/docs/creating-content/markdown-cheat-sheet\n",
    "\n",
    "#### Resources\n",
    "\n",
    "+ Information and data sources: http://www.amstat.org/publications/jse/datasets/normtemp.txt, http://www.amstat.org/publications/jse/jse_data_archive.htm\n",
    "+ Markdown syntax: http://nestacms.com/docs/creating-content/markdown-cheat-sheet\n",
    "\n",
    "****"
   ]
  },
  {
   "cell_type": "code",
   "execution_count": 13,
   "metadata": {},
   "outputs": [],
   "source": [
    "import pandas as pd\n",
    "import numpy as np\n",
    "import matplotlib.pyplot as plt\n",
    "import scipy.stats as stats\n",
    "\n",
    "df = pd.read_csv('data/human_body_temperature.csv')"
   ]
  },
  {
   "cell_type": "code",
   "execution_count": 14,
   "metadata": {},
   "outputs": [
    {
     "name": "stdout",
     "output_type": "stream",
     "text": [
      "<class 'pandas.core.frame.DataFrame'>\n",
      "RangeIndex: 130 entries, 0 to 129\n",
      "Data columns (total 3 columns):\n",
      "temperature    130 non-null float64\n",
      "gender         130 non-null object\n",
      "heart_rate     130 non-null float64\n",
      "dtypes: float64(2), object(1)\n",
      "memory usage: 3.1+ KB\n"
     ]
    }
   ],
   "source": [
    "# Your work here.\n",
    "df.info()"
   ]
  },
  {
   "cell_type": "code",
   "execution_count": 15,
   "metadata": {},
   "outputs": [
    {
     "data": {
      "text/html": [
       "<div>\n",
       "<style scoped>\n",
       "    .dataframe tbody tr th:only-of-type {\n",
       "        vertical-align: middle;\n",
       "    }\n",
       "\n",
       "    .dataframe tbody tr th {\n",
       "        vertical-align: top;\n",
       "    }\n",
       "\n",
       "    .dataframe thead th {\n",
       "        text-align: right;\n",
       "    }\n",
       "</style>\n",
       "<table border=\"1\" class=\"dataframe\">\n",
       "  <thead>\n",
       "    <tr style=\"text-align: right;\">\n",
       "      <th></th>\n",
       "      <th>temperature</th>\n",
       "      <th>gender</th>\n",
       "      <th>heart_rate</th>\n",
       "    </tr>\n",
       "  </thead>\n",
       "  <tbody>\n",
       "    <tr>\n",
       "      <th>0</th>\n",
       "      <td>99.3</td>\n",
       "      <td>F</td>\n",
       "      <td>68.0</td>\n",
       "    </tr>\n",
       "    <tr>\n",
       "      <th>1</th>\n",
       "      <td>98.4</td>\n",
       "      <td>F</td>\n",
       "      <td>81.0</td>\n",
       "    </tr>\n",
       "    <tr>\n",
       "      <th>2</th>\n",
       "      <td>97.8</td>\n",
       "      <td>M</td>\n",
       "      <td>73.0</td>\n",
       "    </tr>\n",
       "    <tr>\n",
       "      <th>3</th>\n",
       "      <td>99.2</td>\n",
       "      <td>F</td>\n",
       "      <td>66.0</td>\n",
       "    </tr>\n",
       "    <tr>\n",
       "      <th>4</th>\n",
       "      <td>98.0</td>\n",
       "      <td>F</td>\n",
       "      <td>73.0</td>\n",
       "    </tr>\n",
       "  </tbody>\n",
       "</table>\n",
       "</div>"
      ],
      "text/plain": [
       "   temperature gender  heart_rate\n",
       "0         99.3      F        68.0\n",
       "1         98.4      F        81.0\n",
       "2         97.8      M        73.0\n",
       "3         99.2      F        66.0\n",
       "4         98.0      F        73.0"
      ]
     },
     "execution_count": 15,
     "metadata": {},
     "output_type": "execute_result"
    }
   ],
   "source": [
    "df.head()"
   ]
  },
  {
   "cell_type": "markdown",
   "metadata": {},
   "source": [
    "**#1. Is the distribution of body temperatures normal?**\n",
    "\n",
    "Yes"
   ]
  },
  {
   "cell_type": "code",
   "execution_count": 16,
   "metadata": {},
   "outputs": [
    {
     "name": "stdout",
     "output_type": "stream",
     "text": [
      "The sample size is: 130\n",
      "The sample mean is: 98.24923076923078\n",
      "The sample standard deviation is: 0.7303577789050377\n"
     ]
    }
   ],
   "source": [
    "n = len(df['temperature'])\n",
    "\n",
    "M = np.mean(df['temperature'])\n",
    "\n",
    "s = np.std(df['temperature'])\n",
    "\n",
    "print('The sample size is: ' + str(n))\n",
    "print('The sample mean is: ' + str(M))\n",
    "print('The sample standard deviation is: ' + str(s))"
   ]
  },
  {
   "cell_type": "code",
   "execution_count": 17,
   "metadata": {},
   "outputs": [],
   "source": [
    "# Defining a function for an ecdf\n",
    "def ecdf(data):\n",
    "    \n",
    "    n = len(data)\n",
    "    \n",
    "    x = np.sort(data)\n",
    "    \n",
    "    y = np.arange(1, n + 1) / n\n",
    "    \n",
    "    return x,y"
   ]
  },
  {
   "cell_type": "code",
   "execution_count": 19,
   "metadata": {},
   "outputs": [],
   "source": [
    "# Overlay normal distribution over ecdf of data\n",
    "normal = np.random.normal(M, s, size = 10000)"
   ]
  },
  {
   "cell_type": "code",
   "execution_count": 20,
   "metadata": {},
   "outputs": [
    {
     "data": {
      "image/png": "[encoded data removed]",
      "text/plain": [
       "<Figure size 432x288 with 1 Axes>"
      ]
     },
     "metadata": {},
     "output_type": "display_data"
    }
   ],
   "source": [
    "x_temp, y_temp = ecdf(df['temperature'])\n",
    "x_normal, y_normal = ecdf(normal)\n",
    "\n",
    "_ = plt.plot(x_normal, y_normal)\n",
    "_ = plt.plot(x_temp, y_temp, marker='.', linestyle='none')\n",
    "\n",
    "_ = plt.xlabel('Temperature ($^\\circ$F)')\n",
    "_ = plt.ylabel('ECDF')\n",
    "_ = plt.legend(('Normal Distribution', 'Data'), loc='lower right')\n",
    "_ = plt.title('ECDF Confirming Normal Distribution of Data')"
   ]
  },
  {
   "cell_type": "code",
   "execution_count": 22,
   "metadata": {},
   "outputs": [
    {
     "data": {
      "image/png": "[encoded data removed]",
      "text/plain": [
       "<Figure size 432x288 with 1 Axes>"
      ]
     },
     "metadata": {},
     "output_type": "display_data"
    }
   ],
   "source": [
    "# Show normal distribution of data\n",
    "_ = plt.hist(df['temperature'], density = True)\n",
    "normfit = stats.norm.pdf(df['temperature'], M, s)\n",
    "_ = plt.plot(df['temperature'], normfit, '.')\n",
    "_ = plt.xlabel('Temperature ($^\\circ$F)')\n",
    "_ = plt.ylabel('Frequency')\n",
    "_ = plt.title('Histogram Showing Normal Distribution of Data')"
   ]
  },
  {
   "cell_type": "markdown",
   "metadata": {},
   "source": [
    "**#2. Is the sample size large? Are the observations independent?**\n",
    "\n",
    "The sample size of 130 is large because it is greater than 30 for the CLT. The observations are independent because they are all taken from individual people and do not influence one another.\n"
   ]
  },
  {
   "cell_type": "markdown",
   "metadata": {},
   "source": [
    "**#3. Is the true population mean really 98.6 degrees F?**\n",
    "\n",
    "* Would you use a one-sample or two-sample test? Why?\n",
    "\n",
    "It would be best to use a one-sample test because we have a set of data that we are comparing against one value.\n",
    "\n",
    "* In this situation, is it appropriate to use the t or z statistic?\n",
    "\n",
    "It would be best to use the t statistic because our population standard deviation is unknown, but since the sample is large it won't make a big difference here, and the null hypothesis is rejected throughout.\n",
    "\n",
    "* Now try using the other test. How is the result different? Why?\n",
    "\n",
    "The p-value of t-statistic test is larger than that of the z-test, meaning the t-test distribution is larger than z-test distribution."
   ]
  },
  {
   "cell_type": "markdown",
   "metadata": {},
   "source": [
    "Null Hypothesis: The true population mean is 98.6 degrees F.\n",
    "\n",
    "Alternative Hypothesis: The true population mean is not equal to 98.6 degrees F"
   ]
  },
  {
   "cell_type": "code",
   "execution_count": 25,
   "metadata": {},
   "outputs": [
    {
     "name": "stdout",
     "output_type": "stream",
     "text": [
      "p-value =  0.0\n"
     ]
    }
   ],
   "source": [
    "# Define bootstrap functions\n",
    "\n",
    "def bootstrap(data, function):\n",
    "    return function(np.random.choice(data, size = len(data)))\n",
    "\n",
    "def bootstrap_replicates(data, function, size = 1):\n",
    "    replicates = np.empty(size)\n",
    "    for i in range(size):\n",
    "        replicates[i] = bootstrap(data, function)\n",
    "    return replicates\n",
    "\n",
    "# Array of translated temperatures:\n",
    "t_temps = df['temperature'] - M + 98.6\n",
    "\n",
    "# Bootstrap replicates of translated temperatures:\n",
    "t_replicates = bootstrap_replicates(t_temps, np.mean, size = 10000)\n",
    "\n",
    "# Calculate p-value\n",
    "p = np.sum(t_replicates <= M) / len(t_replicates)\n",
    "\n",
    "print('p-value = ', p)\n"
   ]
  },
  {
   "cell_type": "markdown",
   "metadata": {},
   "source": [
    "The p-value associated with the bootstrap test is zero, meaning to reject the null hypothesis and implying that the true population mean is not equal to 98.6 degress Fahrenheit. "
   ]
  },
  {
   "cell_type": "code",
   "execution_count": 26,
   "metadata": {},
   "outputs": [
    {
     "name": "stdout",
     "output_type": "stream",
     "text": [
      "z = -5.475925202078116\n",
      "p-value = 4.3523151658821886e-08\n"
     ]
    }
   ],
   "source": [
    "#Performing z-test and calculating z and p values\n",
    "# Standard error of the mean\n",
    "sem = s / np.sqrt(n)\n",
    "z = (M - 98.6) / sem\n",
    "print('z =', z)\n",
    "\n",
    "p_z = stats.norm.cdf(z) * 2\n",
    "print('p-value =', p_z)"
   ]
  },
  {
   "cell_type": "code",
   "execution_count": 27,
   "metadata": {},
   "outputs": [
    {
     "name": "stdout",
     "output_type": "stream",
     "text": [
      "t = -5.475925202078116\n",
      "p-value = 2.1887464624095175e-07\n"
     ]
    }
   ],
   "source": [
    "# Performing t-test and calculating t and p values\n",
    "t = (M - 98.6) / (s / np.sqrt(n))\n",
    "print('t =', t)\n",
    "\n",
    "p_t = stats.t.sf(np.abs(t), n - 1) * 2\n",
    "print('p-value =', p_t)"
   ]
  },
  {
   "cell_type": "markdown",
   "metadata": {},
   "source": [
    "**#4. Draw a small sample of size 10 from the data and repeat both frequentist tests.**\n",
    "* Which one is the correct one to use?\n",
    "\n",
    "The t-test, because the sample size is small.\n",
    "\n",
    "* What do you notice? What does this tell you about the difference in application of the t and z statistic?\n",
    "\n",
    "The p-value for the z-test is significantly smaller than that of the t-test. This shows it is important to utilize the correct test based on the parameters."
   ]
  },
  {
   "cell_type": "code",
   "execution_count": 28,
   "metadata": {},
   "outputs": [
    {
     "data": {
      "text/plain": [
       "array([99.2, 99. , 98.7, 98.4, 98.5, 98.4, 99.1, 97.6, 97.1, 97.6])"
      ]
     },
     "execution_count": 28,
     "metadata": {},
     "output_type": "execute_result"
    }
   ],
   "source": [
    "# Drawing a random sample of 10 from the temperature data:\n",
    "sample = np.random.choice(df['temperature'], size = 10)\n",
    "sample"
   ]
  },
  {
   "cell_type": "code",
   "execution_count": 29,
   "metadata": {},
   "outputs": [
    {
     "name": "stdout",
     "output_type": "stream",
     "text": [
      "t =  -1.0681034923743782\n",
      "p-value = 0.3132843255276878\n"
     ]
    }
   ],
   "source": [
    "# Performing t-test\n",
    "t = stats.ttest_1samp(sample, 98.6)[0]\n",
    "p = stats.ttest_1samp(sample, 98.6)[1]\n",
    "\n",
    "print('t = ', t)\n",
    "print('p-value =', p)"
   ]
  },
  {
   "cell_type": "code",
   "execution_count": 30,
   "metadata": {},
   "outputs": [
    {
     "name": "stdout",
     "output_type": "stream",
     "text": [
      "z = -1.125879937561108\n",
      "p-value = 4.3523151658821886e-08\n"
     ]
    }
   ],
   "source": [
    "# Performing z-test\n",
    "z1 = (np.mean(sample) - 98.6) / (np.std(sample) / np.sqrt(len(sample)))\n",
    "\n",
    "print('z =', z1)\n",
    "\n",
    "p_z1 = stats.norm.sf(abs(z)) * 2\n",
    "print('p-value =', p_z1)"
   ]
  },
  {
   "cell_type": "markdown",
   "metadata": {},
   "source": [
    "**#5. At what temperature should we consider someone's temperature to be \"abnormal\"?**"
   ]
  },
  {
   "cell_type": "code",
   "execution_count": 31,
   "metadata": {},
   "outputs": [
    {
     "name": "stdout",
     "output_type": "stream",
     "text": [
      "The margin of error of the mean temperature is:  0.125550964802579 degrees F\n",
      "95% of the data falls between the interval:  [ 96.7225 , 99.4775 ] degrees F\n",
      "The 95% prediction interval is:  [ 96.8177295225769 , 99.68073201588466 ] degrees F\n"
     ]
    }
   ],
   "source": [
    "# Finding the margin of error\n",
    "critical_z = 1.96 # z-value corresponding to a 95% confidence interval\n",
    "sem \n",
    "margin_e = critical_z * sem \n",
    "print('The margin of error of the mean temperature is: ', margin_e, 'degrees F')\n",
    "\n",
    "\n",
    "# 95% Confidence Interval of the mean \n",
    "confidence_i = np.percentile(df['temperature'], [2.5, 97.5])\n",
    "print('95% of the data falls between the interval: ', '[', confidence_i[0], ',', confidence_i[1], ']', 'degrees F')\n",
    "\n",
    "\n",
    "# 95% Prediction Interval\n",
    "prediction_i = critical_z * s/np.sqrt(1)  \n",
    "print('The 95% prediction interval is: ', '[', M - prediction_i, ',', M + prediction_i, ']', 'degrees F')\n"
   ]
  },
  {
   "cell_type": "markdown",
   "metadata": {},
   "source": [
    "We should consider a person's temperature to be abnormal if it falls outside of the 95% prediction interval of 96.8177295225769 to 99.68073201588466."
   ]
  },
  {
   "cell_type": "markdown",
   "metadata": {},
   "source": [
    "** #6. Is there a significant difference between males and females in normal temperature?**\n",
    "* What testing approach did you use and why?\n",
    "\n",
    "I used a two-tailed permutation test here since it compares the means of two independent samples.\n",
    "\n",
    "* Write a story with your conclusion in the context of the original problem.\n",
    "\n",
    "Although Carl Wunderlich reported in 1868 that the normal human body temperature is 98.6 degrees F, our analysis reflected that the actual temperture is closer to 98.2 degrees F. It is also interesting to note our significance tests showed that females have on average a .29 degree higher body temperature than men. "
   ]
  },
  {
   "cell_type": "code",
   "execution_count": 32,
   "metadata": {},
   "outputs": [
    {
     "name": "stdout",
     "output_type": "stream",
     "text": [
      "The difference of means between male and female temperatures is 0.289230769230727 degrees F\n"
     ]
    }
   ],
   "source": [
    "# Separate observations for male and female\n",
    "males = df[df['gender'] == 'M']\n",
    "females = df[df['gender'] == 'F']\n",
    "\n",
    "male_temp = males['temperature']\n",
    "female_temp = females['temperature']\n",
    "\n",
    "# Calculating difference in means for male and female temperatures\n",
    "male_temp_mean = np.mean(male_temp)\n",
    "female_temp_mean = np.mean(female_temp)\n",
    "\n",
    "diff_of_means = female_temp_mean - male_temp_mean\n",
    "print('The difference of means between male and female temperatures is', diff_of_means, 'degrees F')\n",
    "\n",
    "#Null hypothesis: The distribution of temperatures for males and females is the same.\n",
    "#Alternative hypothesis: The distribution of temperatures for males and females is different."
   ]
  },
  {
   "cell_type": "code",
   "execution_count": 33,
   "metadata": {},
   "outputs": [
    {
     "data": {
      "text/plain": [
       "0.12655395041982642"
      ]
     },
     "execution_count": 33,
     "metadata": {},
     "output_type": "execute_result"
    }
   ],
   "source": [
    "# Calculating Standard Error\n",
    "male_temp_std = males['temperature'].std()\n",
    "female_temp_std = females['temperature'].std()\n",
    "\n",
    "SE = ((male_temp_std ** 2) / 65 + (female_temp_std ** 2 )/ 65) ** 0.5\n",
    "SE"
   ]
  },
  {
   "cell_type": "code",
   "execution_count": 34,
   "metadata": {},
   "outputs": [
    {
     "data": {
      "text/plain": [
       "127.5103008303909"
      ]
     },
     "execution_count": 34,
     "metadata": {},
     "output_type": "execute_result"
    }
   ],
   "source": [
    "# Calculating Degrees of Freedom\n",
    "F1 = female_temp_std ** 2 / 65\n",
    "M1 = male_temp_std ** 2 / 65\n",
    "\n",
    "DF = ((F1 + M1) ** 2) / (((F1 **2) / 64) + ((M1 ** 2) / 64))\n",
    "DF"
   ]
  },
  {
   "cell_type": "code",
   "execution_count": 35,
   "metadata": {},
   "outputs": [
    {
     "name": "stdout",
     "output_type": "stream",
     "text": [
      "The t-statistic is 2.285434538165274\n"
     ]
    }
   ],
   "source": [
    "# Using 0.05 Significance level in two sample t-test\n",
    "t = diff_of_means / SE\n",
    "print('The t-statistic is', t)"
   ]
  },
  {
   "cell_type": "code",
   "execution_count": 36,
   "metadata": {},
   "outputs": [
    {
     "name": "stdout",
     "output_type": "stream",
     "text": [
      "The p-value is 0.023657711289024146\n"
     ]
    }
   ],
   "source": [
    "# Calculating the p-value\n",
    "p = stats.t.sf(np.abs(2.29), 128) * 2\n",
    "print('The p-value is', p)"
   ]
  },
  {
   "cell_type": "markdown",
   "metadata": {},
   "source": [
    "Since our p-value is less than .05 we can reject the null hypothesis and conclude that there is a statistically significant difference in temperatures for males and females."
   ]
  }
 ],
 "metadata": {
  "kernelspec": {
   "display_name": "Python 3",
   "language": "python",
   "name": "python3"
  },
  "language_info": {
   "codemirror_mode": {
    "name": "ipython",
    "version": 3
   },
   "file_extension": ".py",
   "mimetype": "text/x-python",
   "name": "python",
   "nbconvert_exporter": "python",
   "pygments_lexer": "ipython3",
   "version": "3.6.5"
  }
 },
 "nbformat": 4,
 "nbformat_minor": 1
}
